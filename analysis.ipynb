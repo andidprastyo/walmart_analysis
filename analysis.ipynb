{
 "cells": [
  {
   "attachments": {},
   "cell_type": "markdown",
   "metadata": {},
   "source": [
    "## Walmart Analysis"
   ]
  },
  {
   "attachments": {},
   "cell_type": "markdown",
   "metadata": {},
   "source": [
    "### Read Data"
   ]
  },
  {
   "cell_type": "code",
   "execution_count": 4,
   "metadata": {},
   "outputs": [
    {
     "data": {
      "text/html": [
       "<div>\n",
       "<style scoped>\n",
       "    .dataframe tbody tr th:only-of-type {\n",
       "        vertical-align: middle;\n",
       "    }\n",
       "\n",
       "    .dataframe tbody tr th {\n",
       "        vertical-align: top;\n",
       "    }\n",
       "\n",
       "    .dataframe thead th {\n",
       "        text-align: right;\n",
       "    }\n",
       "</style>\n",
       "<table border=\"1\" class=\"dataframe\">\n",
       "  <thead>\n",
       "    <tr style=\"text-align: right;\">\n",
       "      <th></th>\n",
       "      <th>Store</th>\n",
       "      <th>Date</th>\n",
       "      <th>Weekly_Sales</th>\n",
       "      <th>Holiday_Flag</th>\n",
       "      <th>Temperature</th>\n",
       "      <th>Fuel_Price</th>\n",
       "      <th>CPI</th>\n",
       "      <th>Unemployment</th>\n",
       "    </tr>\n",
       "  </thead>\n",
       "  <tbody>\n",
       "    <tr>\n",
       "      <th>0</th>\n",
       "      <td>1</td>\n",
       "      <td>05-02-2010</td>\n",
       "      <td>1643690.90</td>\n",
       "      <td>0</td>\n",
       "      <td>42.31</td>\n",
       "      <td>2.572</td>\n",
       "      <td>211.096358</td>\n",
       "      <td>8.106</td>\n",
       "    </tr>\n",
       "    <tr>\n",
       "      <th>1</th>\n",
       "      <td>1</td>\n",
       "      <td>12-02-2010</td>\n",
       "      <td>1641957.44</td>\n",
       "      <td>1</td>\n",
       "      <td>38.51</td>\n",
       "      <td>2.548</td>\n",
       "      <td>211.242170</td>\n",
       "      <td>8.106</td>\n",
       "    </tr>\n",
       "    <tr>\n",
       "      <th>2</th>\n",
       "      <td>1</td>\n",
       "      <td>19-02-2010</td>\n",
       "      <td>1611968.17</td>\n",
       "      <td>0</td>\n",
       "      <td>39.93</td>\n",
       "      <td>2.514</td>\n",
       "      <td>211.289143</td>\n",
       "      <td>8.106</td>\n",
       "    </tr>\n",
       "    <tr>\n",
       "      <th>3</th>\n",
       "      <td>1</td>\n",
       "      <td>26-02-2010</td>\n",
       "      <td>1409727.59</td>\n",
       "      <td>0</td>\n",
       "      <td>46.63</td>\n",
       "      <td>2.561</td>\n",
       "      <td>211.319643</td>\n",
       "      <td>8.106</td>\n",
       "    </tr>\n",
       "    <tr>\n",
       "      <th>4</th>\n",
       "      <td>1</td>\n",
       "      <td>05-03-2010</td>\n",
       "      <td>1554806.68</td>\n",
       "      <td>0</td>\n",
       "      <td>46.50</td>\n",
       "      <td>2.625</td>\n",
       "      <td>211.350143</td>\n",
       "      <td>8.106</td>\n",
       "    </tr>\n",
       "  </tbody>\n",
       "</table>\n",
       "</div>"
      ],
      "text/plain": [
       "   Store        Date  Weekly_Sales  Holiday_Flag  Temperature  Fuel_Price   \n",
       "0      1  05-02-2010    1643690.90             0        42.31       2.572  \\\n",
       "1      1  12-02-2010    1641957.44             1        38.51       2.548   \n",
       "2      1  19-02-2010    1611968.17             0        39.93       2.514   \n",
       "3      1  26-02-2010    1409727.59             0        46.63       2.561   \n",
       "4      1  05-03-2010    1554806.68             0        46.50       2.625   \n",
       "\n",
       "          CPI  Unemployment  \n",
       "0  211.096358         8.106  \n",
       "1  211.242170         8.106  \n",
       "2  211.289143         8.106  \n",
       "3  211.319643         8.106  \n",
       "4  211.350143         8.106  "
      ]
     },
     "execution_count": 4,
     "metadata": {},
     "output_type": "execute_result"
    }
   ],
   "source": [
    "import pandas as pd \n",
    "\n",
    "df = pd.read_csv('./Walmart.csv')\n",
    "df.head()"
   ]
  },
  {
   "attachments": {},
   "cell_type": "markdown",
   "metadata": {},
   "source": [
    "### Task 1"
   ]
  },
  {
   "attachments": {},
   "cell_type": "markdown",
   "metadata": {},
   "source": [
    "#### 1.a Chosing the right data to regression modelling\n",
    "\n",
    "Kolom yang bisa digunakan untuk pemodelan regresi adalah 'Weekly_Sales', 'Temperature', 'Fuel_Price', 'CPI', dan 'Unemployment'"
   ]
  },
  {
   "attachments": {},
   "cell_type": "markdown",
   "metadata": {},
   "source": [
    "#### 1.b Mean, Median, Std Deviasi & Varians"
   ]
  },
  {
   "cell_type": "code",
   "execution_count": 22,
   "metadata": {},
   "outputs": [
    {
     "name": "stdout",
     "output_type": "stream",
     "text": [
      "Mean Kolom Weekly_Sales di Store 4:  2094712.96\n",
      "Median Kolom Weekly_Sales di Store 4:  2073951.38\n",
      "Standar Deviasi Kolom Weekly_Sales di Store 4:  266201.44\n",
      "Varians Kolom Weekly_Sales di Store 4:  70863207880.99\n"
     ]
    }
   ],
   "source": [
    "mean_weekly_sales = df[df['Store'] == 4]['Weekly_Sales'].mean().round(2) # Mencari nilai rata-rata kolom 'Weekly_Sales'\n",
    "print(\"Mean Kolom Weekly_Sales di Store 4: \", mean_weekly_sales)\n",
    "\n",
    "median_weekly_sales = df[df['Store'] == 4]['Weekly_Sales'].median().round(2) # Mencari nilai median kolom 'Weekly_Sales'\n",
    "print(\"Median Kolom Weekly_Sales di Store 4: \", median_weekly_sales)\n",
    "\n",
    "std_dev_weekly_sales = df[df['Store'] == 4]['Weekly_Sales'].std().round(2) # Mencari nilai standar deviasi kolom 'Weekly_Sales'\n",
    "print(\"Standar Deviasi Kolom Weekly_Sales di Store 4: \", std_dev_weekly_sales)\n",
    "\n",
    "varians_weekly_sales = df[df['Store'] == 4]['Weekly_Sales'].var().round(2) # Mencari nilai variansi kolom 'Weekly_Sales'\n",
    "print(\"Varians Kolom Weekly_Sales di Store 4: \", varians_weekly_sales)"
   ]
  },
  {
   "cell_type": "code",
   "execution_count": 23,
   "metadata": {},
   "outputs": [
    {
     "name": "stdout",
     "output_type": "stream",
     "text": [
      "Mean Kolom Temperature di Store 4:  62.25\n",
      "Median Kolom Temperature di Store 4:  64.22\n",
      "Standar Deviasi Kolom Temperature di Store 4:  16.18\n",
      "Varians Kolom Temperature di Store 4:  261.79\n"
     ]
    }
   ],
   "source": [
    "mean_temperatures = df[df['Store'] == 4]['Temperature'].mean().round(2) # Mencari nilai rata-rata kolom 'Temperature'\n",
    "print(\"Mean Kolom Temperature di Store 4: \", mean_temperatures)\n",
    "\n",
    "median_temperatures = df[df['Store'] == 4]['Temperature'].median().round(2) # Mencari nilai median kolom 'Temperature'\n",
    "print(\"Median Kolom Temperature di Store 4: \", median_temperatures)\n",
    "\n",
    "std_dev_temperatures = df[df['Store'] == 4]['Temperature'].std().round(2) # Mencari nilai standar deviasi kolom 'Temperature'\n",
    "print(\"Standar Deviasi Kolom Temperature di Store 4: \", std_dev_temperatures)\n",
    "\n",
    "varians_temperatures = df[df['Store'] == 4]['Temperature'].var().round(2) # Mencari nilai variansi kolom 'Temperature'\n",
    "print(\"Varians Kolom Temperature di Store 4: \", varians_temperatures)"
   ]
  },
  {
   "cell_type": "code",
   "execution_count": 24,
   "metadata": {},
   "outputs": [
    {
     "name": "stdout",
     "output_type": "stream",
     "text": [
      "Mean Kolom Fuel_Price di Store 4:  3.22\n",
      "Median Kolom Fuel_Price di Store 4:  3.29\n",
      "Standar Deviasi Kolom Fuel_Price di Store 4:  0.42\n",
      "Varians Kolom Fuel_Price di Store 4:  0.17\n"
     ]
    }
   ],
   "source": [
    "mean_fuel_price = df[df['Store'] == 4]['Fuel_Price'].mean().round(2) # Mencari nilai rata-rata kolom 'Fuel_Price'\n",
    "print(\"Mean Kolom Fuel_Price di Store 4: \", mean_fuel_price)\n",
    "\n",
    "median_fuel_price = df[df['Store'] == 4]['Fuel_Price'].median().round(2) # Mencari nilai median kolom 'Fuel_Price'\n",
    "print(\"Median Kolom Fuel_Price di Store 4: \", median_fuel_price)\n",
    "\n",
    "std_dev_fuel_price = df[df['Store'] == 4]['Fuel_Price'].std().round(2) # Mencari nilai standar deviasi kolom 'Fuel_Price'\n",
    "print(\"Standar Deviasi Kolom Fuel_Price di Store 4: \", std_dev_fuel_price)\n",
    "\n",
    "varians_fuel_price = df[df['Store'] == 4]['Fuel_Price'].var().round(2) # Mencari nilai variansi kolom 'Fuel_Price'\n",
    "print(\"Varians Kolom Fuel_Price di Store 4: \", varians_fuel_price)\n"
   ]
  },
  {
   "cell_type": "code",
   "execution_count": 25,
   "metadata": {},
   "outputs": [
    {
     "name": "stdout",
     "output_type": "stream",
     "text": [
      "Mean Kolom CPI di Store 4:  128.68\n",
      "Median Kolom CPI di Store 4:  129.08\n",
      "Standar Deviasi Kolom CPI di Store 4:  1.86\n",
      "Varians Kolom CPI di Store 4:  3.45\n"
     ]
    }
   ],
   "source": [
    "mean_cpi = df[df['Store'] == 4]['CPI'].mean().round(2) # Mencari nilai rata-rata kolom 'CPI'\n",
    "print(\"Mean Kolom CPI di Store 4: \", mean_cpi)\n",
    "\n",
    "median_cpi = df[df['Store'] == 4]['CPI'].median().round(2) # Mencari nilai median kolom 'CPI'\n",
    "print(\"Median Kolom CPI di Store 4: \", median_cpi)\n",
    "\n",
    "std_dev_cpi = df[df['Store'] == 4]['CPI'].std().round(2) # Mencari nilai standar deviasi kolom 'CPI'\n",
    "print(\"Standar Deviasi Kolom CPI di Store 4: \", std_dev_cpi)\n",
    "\n",
    "varians_cpi = df[df['Store'] == 4]['CPI'].var().round(2) # Mencari nilai variansi kolom 'CPI'\n",
    "print(\"Varians Kolom CPI di Store 4: \", varians_cpi)\n"
   ]
  },
  {
   "cell_type": "code",
   "execution_count": 26,
   "metadata": {},
   "outputs": [
    {
     "name": "stdout",
     "output_type": "stream",
     "text": [
      "Mean Kolom Unemployment di Store 4:  5.96\n",
      "Median Kolom Unemployment di Store 4:  5.95\n",
      "Standar Deviasi Kolom Unemployment di Store 4:  1.42\n",
      "Varians Kolom Unemployment di Store 4:  2.02\n"
     ]
    }
   ],
   "source": [
    "mean_unemployment = df[df['Store'] == 4]['Unemployment'].mean().round(2) # Mencari nilai rata-rata kolom 'Unemployment'\n",
    "print(\"Mean Kolom Unemployment di Store 4: \", mean_unemployment)\n",
    "\n",
    "median_unemployment = df[df['Store'] == 4]['Unemployment'].median().round(2) # Mencari nilai median kolom 'Unemployment'\n",
    "print(\"Median Kolom Unemployment di Store 4: \", median_unemployment)\n",
    "\n",
    "std_dev_unemployment = df[df['Store'] == 4]['Unemployment'].std().round(2) # Mencari nilai standar deviasi kolom 'Unemployment'\n",
    "print(\"Standar Deviasi Kolom Unemployment di Store 4: \", std_dev_unemployment)\n",
    "\n",
    "varians_unemployment = df[df['Store'] == 4]['Unemployment'].var().round(2) # Mencari nilai variansi kolom 'Unemployment'\n",
    "print(\"Varians Kolom Unemployment di Store 4: \", varians_unemployment)"
   ]
  },
  {
   "attachments": {},
   "cell_type": "markdown",
   "metadata": {},
   "source": [
    "#### 1.c Q1, Q2, Q3 and IQR Fuel_Price, CPI & Unemployment for Store 4"
   ]
  },
  {
   "cell_type": "code",
   "execution_count": 28,
   "metadata": {},
   "outputs": [
    {
     "name": "stdout",
     "output_type": "stream",
     "text": [
      "Kuartil 1 Kolom Fuel_Price di Store 4:  2.76\n",
      "Kuartil 2 Kolom Fuel_Price di Store 4:  3.29\n",
      "Kuartil 3 Kolom Fuel_Price di Store 4:  3.59\n",
      "IQR Kolom Fuel_Price di Store 4:  0.83\n"
     ]
    }
   ],
   "source": [
    "q1_fuel_price = df[df['Store'] == 4]['Fuel_Price'].quantile(0.25).round(2) # Mencari nilai kuartil 1 kolom 'Fuel_Price'\n",
    "print(\"Kuartil 1 Kolom Fuel_Price di Store 4: \", q1_fuel_price)\n",
    "\n",
    "q2_fuel_price = df[df['Store'] == 4]['Fuel_Price'].quantile(0.5).round(2) # Mencari nilai kuartil 2 kolom 'Fuel_Price'\n",
    "print(\"Kuartil 2 Kolom Fuel_Price di Store 4: \", q2_fuel_price)\n",
    "\n",
    "q3_fuel_price = df[df['Store'] == 4]['Fuel_Price'].quantile(0.75).round(2) # Mencari nilai kuartil 3 kolom 'Fuel_Price'\n",
    "print(\"Kuartil 3 Kolom Fuel_Price di Store 4: \", q3_fuel_price)\n",
    "\n",
    "iqr_fuel_price = (q3_fuel_price - q1_fuel_price).round(3) # Mencari nilai IQR kolom 'Fuel_Price'\n",
    "print(\"IQR Kolom Fuel_Price di Store 4: \", iqr_fuel_price)"
   ]
  },
  {
   "cell_type": "code",
   "execution_count": 29,
   "metadata": {},
   "outputs": [
    {
     "name": "stdout",
     "output_type": "stream",
     "text": [
      "Kuartil 1 Kolom CPI di Store 4:  126.59\n",
      "Kuartil 2 Kolom CPI di Store 4:  129.08\n",
      "Kuartil 3 Kolom CPI di Store 4:  130.5\n",
      "IQR Kolom CPI di Store 4:  3.91\n"
     ]
    }
   ],
   "source": [
    "q1_cpi = df[df['Store'] == 4]['CPI'].quantile(0.25).round(2) # Mencari nilai kuartil 1 kolom 'CPI'\n",
    "print(\"Kuartil 1 Kolom CPI di Store 4: \", q1_cpi)\n",
    "\n",
    "q2_cpi = df[df['Store'] == 4]['CPI'].quantile(0.5).round(2) # Mencari nilai kuartil 2 kolom 'CPI'\n",
    "print(\"Kuartil 2 Kolom CPI di Store 4: \", q2_cpi)\n",
    "\n",
    "q3_cpi = df[df['Store'] == 4]['CPI'].quantile(0.75).round(2) # Mencari nilai kuartil 3 kolom 'CPI'\n",
    "print(\"Kuartil 3 Kolom CPI di Store 4: \", q3_cpi)\n",
    "\n",
    "iqr_cpi = (q3_cpi - q1_cpi).round(3) # Mencari nilai IQR kolom 'CPI'\n",
    "print(\"IQR Kolom CPI di Store 4: \", iqr_cpi)"
   ]
  },
  {
   "cell_type": "code",
   "execution_count": 30,
   "metadata": {},
   "outputs": [
    {
     "name": "stdout",
     "output_type": "stream",
     "text": [
      "Kuartil 1 Kolom Unemployment di Store 4:  4.61\n",
      "Kuartil 2 Kolom Unemployment di Store 4:  5.95\n",
      "Kuartil 3 Kolom Unemployment di Store 4:  7.13\n",
      "IQR Kolom Unemployment di Store 4:  2.52\n"
     ]
    }
   ],
   "source": [
    "q1_unemployment = df[df['Store'] == 4]['Unemployment'].quantile(0.25).round(2) # Mencari nilai kuartil 1 kolom 'Unemployment'\n",
    "print(\"Kuartil 1 Kolom Unemployment di Store 4: \", q1_unemployment)\n",
    "\n",
    "q2_unemployment = df[df['Store'] == 4]['Unemployment'].quantile(0.5).round(2) # Mencari nilai kuartil 2 kolom 'Unemployment'\n",
    "print(\"Kuartil 2 Kolom Unemployment di Store 4: \", q2_unemployment)\n",
    "\n",
    "q3_unemployment = df[df['Store'] == 4]['Unemployment'].quantile(0.75).round(2) # Mencari nilai kuartil 3 kolom 'Unemployment'\n",
    "print(\"Kuartil 3 Kolom Unemployment di Store 4: \", q3_unemployment)\n",
    "\n",
    "iqr_unemployment = (q3_unemployment - q1_unemployment).round(3) # Mencari nilai IQR kolom 'Unemployment'\n",
    "print(\"IQR Kolom Unemployment di Store 4: \", iqr_unemployment)"
   ]
  },
  {
   "attachments": {},
   "cell_type": "markdown",
   "metadata": {},
   "source": [
    "#### 1.d Varians 1 - holiday week & 0 - non holiday week"
   ]
  },
  {
   "cell_type": "code",
   "execution_count": 40,
   "metadata": {},
   "outputs": [
    {
     "name": "stdout",
     "output_type": "stream",
     "text": [
      "Varians Kolom Weekly Sales Holiday:  393988373714.19293\n",
      "Varians Kolom Weekly Sales non Holiday:  312433415424.3812\n",
      "Varians Kolom Temperatures Holiday:  402.84979180202924\n",
      "Varians Kolom Temperatures non Holiday:  326.7740382066351\n",
      "Varians Kolom Fuel Price Holiday:  0.1664101245681762\n",
      "Varians Kolom Fuel Price non Holiday:  0.21266688900375938\n",
      "Varians Kolom CPI Holiday:  1543.8179947947333\n",
      "Varians Kolom CPI non Holiday:  1549.586998303561\n"
     ]
    }
   ],
   "source": [
    "varians_weekly_sales_holiday_1 = df[df['Holiday_Flag'] == 1]['Weekly_Sales'].var()\n",
    "print(\"Varians Kolom Weekly Sales Holiday: \", varians_weekly_sales_holiday_1)\n",
    "\n",
    "varians_weekly_sales_holiday_0 = df[df['Holiday_Flag'] == 0]['Weekly_Sales'].var()\n",
    "print(\"Varians Kolom Weekly Sales non Holiday: \", varians_weekly_sales_holiday_0)\n",
    "\n",
    "varians_temperatures_1 = df[df['Holiday_Flag'] == 1]['Temperature'].var()\n",
    "print(\"Varians Kolom Temperatures Holiday: \", varians_temperatures_1)\n",
    "\n",
    "varians_temperatures_0 = df[df['Holiday_Flag'] == 0]['Temperature'].var()\n",
    "print(\"Varians Kolom Temperatures non Holiday: \", varians_temperatures_0)\n",
    "\n",
    "varians_fuel_price_1 = df[df['Holiday_Flag'] == 1]['Fuel_Price'].var()\n",
    "print(\"Varians Kolom Fuel Price Holiday: \", varians_fuel_price_1)\n",
    "\n",
    "varians_fuel_price_0 = df[df['Holiday_Flag'] == 0]['Fuel_Price'].var()\n",
    "print(\"Varians Kolom Fuel Price non Holiday: \", varians_fuel_price_0)\n",
    "\n",
    "varians_cpi_1 = df[df['Holiday_Flag'] == 1]['CPI'].var()\n",
    "print(\"Varians Kolom CPI Holiday: \", varians_cpi_1)\n",
    "\n",
    "varians_cpi_0 = df[df['Holiday_Flag'] == 0]['CPI'].var()\n",
    "print(\"Varians Kolom CPI non Holiday: \", varians_cpi_0)"
   ]
  },
  {
   "attachments": {},
   "cell_type": "markdown",
   "metadata": {},
   "source": [
    "#### 1.e perbandingan rata-rata kolom weekly sales"
   ]
  },
  {
   "cell_type": "code",
   "execution_count": 41,
   "metadata": {},
   "outputs": [
    {
     "name": "stdout",
     "output_type": "stream",
     "text": [
      "Rata-rata Kolom Weekly Sales di Store 1:  1555264.4\n",
      "Rata-rata Kolom Weekly Sales di Store 2:  1925751.34\n",
      "Rata-rata Kolom Weekly Sales di Store 3:  402704.44\n",
      "Rata-rata Kolom Weekly Sales di Store 4:  2094712.96\n"
     ]
    }
   ],
   "source": [
    "mean_weekly_sales_1 = df[df['Store'] == 1]['Weekly_Sales'].mean().round(2) # Mencari nilai rata-rata kolom 'Weekly_Sales' di store 1\n",
    "mean_weekly_sales_2 = df[df['Store'] == 2]['Weekly_Sales'].mean().round(2) # Mencari nilai rata-rata kolom 'Weekly_Sales' di store 2\n",
    "mean_weekly_sales_3 = df[df['Store'] == 3]['Weekly_Sales'].mean().round(2) # Mencari nilai rata-rata kolom 'Weekly_Sales' di store 3\n",
    "mean_weekly_sales_4 = df[df['Store'] == 4]['Weekly_Sales'].mean().round(2) # Mencari nilai rata-rata kolom 'Weekly_Sales' di store 4\n",
    "\n",
    "print(\"Rata-rata Kolom Weekly Sales di Store 1: \", mean_weekly_sales_1)\n",
    "print(\"Rata-rata Kolom Weekly Sales di Store 2: \", mean_weekly_sales_2)\n",
    "print(\"Rata-rata Kolom Weekly Sales di Store 3: \", mean_weekly_sales_3)\n",
    "print(\"Rata-rata Kolom Weekly Sales di Store 4: \", mean_weekly_sales_4)"
   ]
  },
  {
   "attachments": {},
   "cell_type": "markdown",
   "metadata": {},
   "source": [
    "#### 1.f Highest CPI amongst other store"
   ]
  },
  {
   "cell_type": "code",
   "execution_count": null,
   "metadata": {},
   "outputs": [],
   "source": []
  }
 ],
 "metadata": {
  "kernelspec": {
   "display_name": "Python 3",
   "language": "python",
   "name": "python3"
  },
  "language_info": {
   "codemirror_mode": {
    "name": "ipython",
    "version": 3
   },
   "file_extension": ".py",
   "mimetype": "text/x-python",
   "name": "python",
   "nbconvert_exporter": "python",
   "pygments_lexer": "ipython3",
   "version": "3.10.9"
  },
  "orig_nbformat": 4
 },
 "nbformat": 4,
 "nbformat_minor": 2
}
