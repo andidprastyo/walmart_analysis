{
 "cells": [
  {
   "attachments": {},
   "cell_type": "markdown",
   "metadata": {},
   "source": [
    "## Walmart Analysis"
   ]
  },
  {
   "attachments": {},
   "cell_type": "markdown",
   "metadata": {},
   "source": [
    "### Read Data"
   ]
  },
  {
   "cell_type": "code",
   "execution_count": 4,
   "metadata": {},
   "outputs": [
    {
     "data": {
      "text/html": [
       "<div>\n",
       "<style scoped>\n",
       "    .dataframe tbody tr th:only-of-type {\n",
       "        vertical-align: middle;\n",
       "    }\n",
       "\n",
       "    .dataframe tbody tr th {\n",
       "        vertical-align: top;\n",
       "    }\n",
       "\n",
       "    .dataframe thead th {\n",
       "        text-align: right;\n",
       "    }\n",
       "</style>\n",
       "<table border=\"1\" class=\"dataframe\">\n",
       "  <thead>\n",
       "    <tr style=\"text-align: right;\">\n",
       "      <th></th>\n",
       "      <th>Store</th>\n",
       "      <th>Date</th>\n",
       "      <th>Weekly_Sales</th>\n",
       "      <th>Holiday_Flag</th>\n",
       "      <th>Temperature</th>\n",
       "      <th>Fuel_Price</th>\n",
       "      <th>CPI</th>\n",
       "      <th>Unemployment</th>\n",
       "    </tr>\n",
       "  </thead>\n",
       "  <tbody>\n",
       "    <tr>\n",
       "      <th>0</th>\n",
       "      <td>1</td>\n",
       "      <td>05-02-2010</td>\n",
       "      <td>1643690.90</td>\n",
       "      <td>0</td>\n",
       "      <td>42.31</td>\n",
       "      <td>2.572</td>\n",
       "      <td>211.096358</td>\n",
       "      <td>8.106</td>\n",
       "    </tr>\n",
       "    <tr>\n",
       "      <th>1</th>\n",
       "      <td>1</td>\n",
       "      <td>12-02-2010</td>\n",
       "      <td>1641957.44</td>\n",
       "      <td>1</td>\n",
       "      <td>38.51</td>\n",
       "      <td>2.548</td>\n",
       "      <td>211.242170</td>\n",
       "      <td>8.106</td>\n",
       "    </tr>\n",
       "    <tr>\n",
       "      <th>2</th>\n",
       "      <td>1</td>\n",
       "      <td>19-02-2010</td>\n",
       "      <td>1611968.17</td>\n",
       "      <td>0</td>\n",
       "      <td>39.93</td>\n",
       "      <td>2.514</td>\n",
       "      <td>211.289143</td>\n",
       "      <td>8.106</td>\n",
       "    </tr>\n",
       "    <tr>\n",
       "      <th>3</th>\n",
       "      <td>1</td>\n",
       "      <td>26-02-2010</td>\n",
       "      <td>1409727.59</td>\n",
       "      <td>0</td>\n",
       "      <td>46.63</td>\n",
       "      <td>2.561</td>\n",
       "      <td>211.319643</td>\n",
       "      <td>8.106</td>\n",
       "    </tr>\n",
       "    <tr>\n",
       "      <th>4</th>\n",
       "      <td>1</td>\n",
       "      <td>05-03-2010</td>\n",
       "      <td>1554806.68</td>\n",
       "      <td>0</td>\n",
       "      <td>46.50</td>\n",
       "      <td>2.625</td>\n",
       "      <td>211.350143</td>\n",
       "      <td>8.106</td>\n",
       "    </tr>\n",
       "  </tbody>\n",
       "</table>\n",
       "</div>"
      ],
      "text/plain": [
       "   Store        Date  Weekly_Sales  Holiday_Flag  Temperature  Fuel_Price   \n",
       "0      1  05-02-2010    1643690.90             0        42.31       2.572  \\\n",
       "1      1  12-02-2010    1641957.44             1        38.51       2.548   \n",
       "2      1  19-02-2010    1611968.17             0        39.93       2.514   \n",
       "3      1  26-02-2010    1409727.59             0        46.63       2.561   \n",
       "4      1  05-03-2010    1554806.68             0        46.50       2.625   \n",
       "\n",
       "          CPI  Unemployment  \n",
       "0  211.096358         8.106  \n",
       "1  211.242170         8.106  \n",
       "2  211.289143         8.106  \n",
       "3  211.319643         8.106  \n",
       "4  211.350143         8.106  "
      ]
     },
     "execution_count": 4,
     "metadata": {},
     "output_type": "execute_result"
    }
   ],
   "source": [
    "import pandas as pd \n",
    "\n",
    "df = pd.read_csv('./Walmart.csv')\n",
    "df.head()"
   ]
  },
  {
   "attachments": {},
   "cell_type": "markdown",
   "metadata": {},
   "source": [
    "### Task 1"
   ]
  },
  {
   "attachments": {},
   "cell_type": "markdown",
   "metadata": {},
   "source": [
    "#### 1.a Chosing the right data to regression modelling\n",
    "\n",
    "Kolom yang bisa digunakan untuk pemodelan regresi adalah 'Weekly_Sales', 'Temperature', 'Fuel_Price', 'CPI', dan 'Unemployment'"
   ]
  },
  {
   "attachments": {},
   "cell_type": "markdown",
   "metadata": {},
   "source": [
    "#### 1.b Mean, Median, Std Deviasi & Varians"
   ]
  },
  {
   "cell_type": "code",
   "execution_count": 55,
   "metadata": {},
   "outputs": [
    {
     "name": "stdout",
     "output_type": "stream",
     "text": [
      "Mean Kolom Weekly_Sales di Store 4: 2094712.96\n",
      "Median Kolom Weekly_Sales di Store 4: 2073951.38\n",
      "Standar Deviasi Kolom Weekly_Sales di Store 4: 266201.44\n",
      "Variance Kolom Weekly_Sales di Store 4: 70863207880.99\n"
     ]
    }
   ],
   "source": [
    "store = 4\n",
    "nama_kolom = 'Weekly_Sales'\n",
    "\n",
    "statistics = {\n",
    "    'Mean': df[df['Store'] == store][nama_kolom].mean().round(2),\n",
    "    'Median': df[df['Store'] == store][nama_kolom].median().round(2),\n",
    "    'Standar Deviasi': df[df['Store'] == store][nama_kolom].std().round(2),\n",
    "    'Variance': df[df['Store'] == store][nama_kolom].var().round(2)\n",
    "}\n",
    "\n",
    "# Printing the statistics for Store 4\n",
    "for measure, value in statistics.items():\n",
    "    print(f\"{measure} Kolom {nama_kolom} di Store {store}: {value}\")"
   ]
  },
  {
   "cell_type": "code",
   "execution_count": 54,
   "metadata": {},
   "outputs": [
    {
     "name": "stdout",
     "output_type": "stream",
     "text": [
      "Mean Kolom Temperature di Store 4: 62.25\n",
      "Median Kolom Temperature di Store 4: 64.22\n",
      "Standar Deviasi Kolom Temperature di Store 4: 16.18\n",
      "Variance Kolom Temperature di Store 4: 261.79\n"
     ]
    }
   ],
   "source": [
    "store = 4\n",
    "nama_kolom = 'Temperature'\n",
    "\n",
    "statistics = {\n",
    "    'Mean': df[df['Store'] == store][nama_kolom].mean().round(2),\n",
    "    'Median': df[df['Store'] == store][nama_kolom].median().round(2),\n",
    "    'Standar Deviasi': df[df['Store'] == store][nama_kolom].std().round(2),\n",
    "    'Variance': df[df['Store'] == store][nama_kolom].var().round(2)\n",
    "}\n",
    "\n",
    "# Tampilkan Hasil\n",
    "for measure, value in statistics.items():\n",
    "    print(f\"{measure} Kolom {nama_kolom} di Store {store}: {value}\")\n"
   ]
  },
  {
   "cell_type": "code",
   "execution_count": 56,
   "metadata": {},
   "outputs": [
    {
     "name": "stdout",
     "output_type": "stream",
     "text": [
      "Mean Kolom Fuel_Price di Store 4: 3.22\n",
      "Median Kolom Fuel_Price di Store 4: 3.29\n",
      "Standar Deviasi Kolom Fuel_Price di Store 4: 0.42\n",
      "Variance Kolom Fuel_Price di Store 4: 0.17\n"
     ]
    }
   ],
   "source": [
    "store = 4\n",
    "nama_kolom = 'Fuel_Price'\n",
    "\n",
    "statistics = {\n",
    "    'Mean': df[df['Store'] == store][nama_kolom].mean().round(2),\n",
    "    'Median': df[df['Store'] == store][nama_kolom].median().round(2),\n",
    "    'Standar Deviasi': df[df['Store'] == store][nama_kolom].std().round(2),\n",
    "    'Variance': df[df['Store'] == store][nama_kolom].var().round(2)\n",
    "}\n",
    "\n",
    "# Tampilkan Hasil\n",
    "for measure, value in statistics.items():\n",
    "    print(f\"{measure} Kolom {nama_kolom} di Store {store}: {value}\")"
   ]
  },
  {
   "cell_type": "code",
   "execution_count": 57,
   "metadata": {},
   "outputs": [
    {
     "name": "stdout",
     "output_type": "stream",
     "text": [
      "Mean Kolom CPI di Store 4: 128.68\n",
      "Median Kolom CPI di Store 4: 129.08\n",
      "Standar Deviasi Kolom CPI di Store 4: 1.86\n",
      "Variance Kolom CPI di Store 4: 3.45\n"
     ]
    }
   ],
   "source": [
    "store = 4\n",
    "nama_kolom = 'CPI'\n",
    "\n",
    "statistics = {\n",
    "    'Mean': df[df['Store'] == store][nama_kolom].mean().round(2),\n",
    "    'Median': df[df['Store'] == store][nama_kolom].median().round(2),\n",
    "    'Standar Deviasi': df[df['Store'] == store][nama_kolom].std().round(2),\n",
    "    'Variance': df[df['Store'] == store][nama_kolom].var().round(2)\n",
    "}\n",
    "\n",
    "# Tampilkan Hasil\n",
    "for measure, value in statistics.items():\n",
    "    print(f\"{measure} Kolom {nama_kolom} di Store {store}: {value}\")"
   ]
  },
  {
   "cell_type": "code",
   "execution_count": 58,
   "metadata": {},
   "outputs": [
    {
     "name": "stdout",
     "output_type": "stream",
     "text": [
      "Mean Kolom Unemployment di Store 4: 5.96\n",
      "Median Kolom Unemployment di Store 4: 5.95\n",
      "Standar Deviasi Kolom Unemployment di Store 4: 1.42\n",
      "Variance Kolom Unemployment di Store 4: 2.02\n"
     ]
    }
   ],
   "source": [
    "store = 4\n",
    "nama_kolom = 'Unemployment'\n",
    "\n",
    "statistics = {\n",
    "    'Mean': df[df['Store'] == store][nama_kolom].mean().round(2),\n",
    "    'Median': df[df['Store'] == store][nama_kolom].median().round(2),\n",
    "    'Standar Deviasi': df[df['Store'] == store][nama_kolom].std().round(2),\n",
    "    'Variance': df[df['Store'] == store][nama_kolom].var().round(2)\n",
    "}\n",
    "\n",
    "# Tampilkan Hasil\n",
    "for measure, value in statistics.items():\n",
    "    print(f\"{measure} Kolom {nama_kolom} di Store {store}: {value}\")"
   ]
  },
  {
   "attachments": {},
   "cell_type": "markdown",
   "metadata": {},
   "source": [
    "#### 1.c Q1, Q2, Q3 and IQR Fuel_Price, CPI & Unemployment for Store 4"
   ]
  },
  {
   "cell_type": "code",
   "execution_count": 66,
   "metadata": {},
   "outputs": [
    {
     "name": "stdout",
     "output_type": "stream",
     "text": [
      "Kuartil 25.0 kolom Fuel_Price di Store 4: 2.76\n",
      "Kuartil 50.0 kolom Fuel_Price di Store 4: 3.29\n",
      "Kuartil 75.0 kolom Fuel_Price di Store 4: 3.59\n",
      "IQR kolom Fuel_Price di Store 4: 0.83\n"
     ]
    }
   ],
   "source": [
    "store = 4\n",
    "nama_kolom = 'Fuel_Price'\n",
    "\n",
    "quantiles = [0.25, 0.5, 0.75]\n",
    "\n",
    "# Menghitung statistik untuk setiap kuartil\n",
    "statistics = {\n",
    "    f\"Kuartil {q*100}\": df[df['Store'] == store_number][nama_kolom].quantile(q).round(2)\n",
    "    for q in quantiles\n",
    "}\n",
    "\n",
    "# Menghitung IQR\n",
    "statistics['IQR'] = (statistics[f\"Kuartil {quantiles[2]*100}\"] - statistics[f\"Kuartil {quantiles[0]*100}\"]).round(3)\n",
    "\n",
    "# Tampilkan Hasil\n",
    "for measure, value in statistics.items():\n",
    "    print(f\"{measure} kolom {nama_kolom} di Store {store_number}: {value}\")"
   ]
  },
  {
   "cell_type": "code",
   "execution_count": 67,
   "metadata": {},
   "outputs": [
    {
     "name": "stdout",
     "output_type": "stream",
     "text": [
      "Kuartil 25.0 kolom CPI di Store 4: 126.59\n",
      "Kuartil 50.0 kolom CPI di Store 4: 129.08\n",
      "Kuartil 75.0 kolom CPI di Store 4: 130.5\n",
      "IQR kolom CPI di Store 4: 3.91\n"
     ]
    }
   ],
   "source": [
    "store = 4\n",
    "nama_kolom = 'CPI'\n",
    "\n",
    "quantiles = [0.25, 0.5, 0.75]\n",
    "\n",
    "# Menghitung statistik untuk setiap kuartil\n",
    "statistics = {\n",
    "    f\"Kuartil {q*100}\": df[df['Store'] == store_number][nama_kolom].quantile(q).round(2)\n",
    "    for q in quantiles\n",
    "}\n",
    "\n",
    "# Menghitung IQR \n",
    "statistics['IQR'] = (statistics[f\"Kuartil {quantiles[2]*100}\"] - statistics[f\"Kuartil {quantiles[0]*100}\"]).round(3)\n",
    "\n",
    "# Tampilkan Hasil\n",
    "for measure, value in statistics.items():\n",
    "    print(f\"{measure} kolom {nama_kolom} di Store {store_number}: {value}\")"
   ]
  },
  {
   "cell_type": "code",
   "execution_count": 97,
   "metadata": {},
   "outputs": [
    {
     "name": "stdout",
     "output_type": "stream",
     "text": [
      "Kuartil 25.0 kolom Unemployment di Store 4: 4.61\n",
      "Kuartil 50.0 kolom Unemployment di Store 4: 5.95\n",
      "Kuartil 75.0 kolom Unemployment di Store 4: 7.13\n",
      "IQR kolom Unemployment di Store 4: 2.52\n"
     ]
    }
   ],
   "source": [
    "store = 4\n",
    "nama_kolom = 'Unemployment'\n",
    "\n",
    "quantiles = [0.25, 0.5, 0.75]\n",
    "\n",
    "# Menghitung hasil statistik untuk setiap kuartil\n",
    "statistics = {\n",
    "    f\"Kuartil {q*100}\": df[df['Store'] == store_number][nama_kolom].quantile(q).round(2)\n",
    "    for q in quantiles\n",
    "}\n",
    "\n",
    "# Menghitung IQR\n",
    "statistics['IQR'] = (statistics[f\"Kuartil {quantiles[2]*100}\"] - statistics[f\"Kuartil {quantiles[0]*100}\"]).round(3)\n",
    "\n",
    "# Tampilkan Hasil\n",
    "for measure, value in statistics.items():\n",
    "    print(f\"{measure} kolom {nama_kolom} di Store {store_number}: {value}\")"
   ]
  },
  {
   "cell_type": "code",
   "execution_count": 70,
   "metadata": {},
   "outputs": [
    {
     "name": "stdout",
     "output_type": "stream",
     "text": [
      "Varians dari Weekly_Sales_Holiday: 393988373714.19293\n",
      "Varians dari Weekly_Sales_NonHoliday: 312433415424.3812\n",
      "Varians dari Temperature_Holiday: 402.84979180202924\n",
      "Varians dari Temperature_NonHoliday: 326.7740382066351\n",
      "Varians dari Fuel_Price_Holiday: 0.1664101245681762\n",
      "Varians dari Fuel_Price_NonHoliday: 0.21266688900375938\n",
      "Varians dari CPI_Holiday: 1543.8179947947333\n",
      "Varians dari CPI_NonHoliday: 1549.586998303561\n"
     ]
    }
   ],
   "source": [
    "column_names = ['Weekly_Sales', 'Temperature', 'Fuel_Price', 'CPI']\n",
    "\n",
    "# membuat dictionary untuk menampung variance dari setiap kolom dan holiday flag\n",
    "variances = {}\n",
    "\n",
    "# menghitung variance dari setiap kolom dan holiday flag\n",
    "for column in column_names:\n",
    "    variances[column + '_Holiday'] = df[df['Holiday_Flag'] == 1][column].var()\n",
    "    variances[column + '_NonHoliday'] = df[df['Holiday_Flag'] == 0][column].var()\n",
    "\n",
    "# menampilkan variance dari setiap kolom dan holiday flag\n",
    "for measure, value in variances.items():\n",
    "    print(f\"Varians dari {measure}: {value}\")"
   ]
  },
  {
   "attachments": {},
   "cell_type": "markdown",
   "metadata": {},
   "source": [
    "#### 1.e perbandingan rata-rata kolom weekly sales = Berbeda"
   ]
  },
  {
   "cell_type": "code",
   "execution_count": 49,
   "metadata": {},
   "outputs": [
    {
     "name": "stdout",
     "output_type": "stream",
     "text": [
      "Mean Kolom Weekly Sales untuk Store 1: 1555264.4\n",
      "Mean Kolom Weekly Sales untuk Store 2: 1925751.34\n",
      "Mean Kolom Weekly Sales untuk Store 3: 402704.44\n",
      "Mean Kolom Weekly Sales untuk Store 4: 2094712.96\n",
      "Mean Kolom Weekly Sales untuk Store 5: 318011.81\n",
      "Mean Kolom Weekly Sales untuk Store 6: 1564728.19\n",
      "Mean Kolom Weekly Sales untuk Store 7: 570617.31\n",
      "Mean Kolom Weekly Sales untuk Store 8: 908749.52\n",
      "Mean Kolom Weekly Sales untuk Store 9: 543980.55\n",
      "Mean Kolom Weekly Sales untuk Store 10: 1899424.57\n",
      "Mean Kolom Weekly Sales untuk Store 11: 1356383.12\n",
      "Mean Kolom Weekly Sales untuk Store 12: 1009001.61\n",
      "Mean Kolom Weekly Sales untuk Store 13: 2003620.31\n",
      "Mean Kolom Weekly Sales untuk Store 14: 2020978.4\n",
      "Mean Kolom Weekly Sales untuk Store 15: 623312.47\n",
      "Mean Kolom Weekly Sales untuk Store 16: 519247.73\n",
      "Mean Kolom Weekly Sales untuk Store 17: 893581.39\n",
      "Mean Kolom Weekly Sales untuk Store 18: 1084718.42\n",
      "Mean Kolom Weekly Sales untuk Store 19: 1444999.04\n",
      "Mean Kolom Weekly Sales untuk Store 20: 2107676.87\n",
      "Mean Kolom Weekly Sales untuk Store 21: 756069.08\n",
      "Mean Kolom Weekly Sales untuk Store 22: 1028501.04\n",
      "Mean Kolom Weekly Sales untuk Store 23: 1389864.46\n",
      "Mean Kolom Weekly Sales untuk Store 24: 1356755.39\n",
      "Mean Kolom Weekly Sales untuk Store 25: 706721.53\n",
      "Mean Kolom Weekly Sales untuk Store 26: 1002911.84\n",
      "Mean Kolom Weekly Sales untuk Store 27: 1775216.2\n",
      "Mean Kolom Weekly Sales untuk Store 28: 1323522.24\n",
      "Mean Kolom Weekly Sales untuk Store 29: 539451.43\n",
      "Mean Kolom Weekly Sales untuk Store 30: 438579.62\n",
      "Mean Kolom Weekly Sales untuk Store 31: 1395901.44\n",
      "Mean Kolom Weekly Sales untuk Store 32: 1166568.15\n",
      "Mean Kolom Weekly Sales untuk Store 33: 259861.69\n",
      "Mean Kolom Weekly Sales untuk Store 34: 966781.56\n",
      "Mean Kolom Weekly Sales untuk Store 35: 919724.98\n",
      "Mean Kolom Weekly Sales untuk Store 36: 373511.99\n",
      "Mean Kolom Weekly Sales untuk Store 37: 518900.28\n",
      "Mean Kolom Weekly Sales untuk Store 38: 385731.65\n",
      "Mean Kolom Weekly Sales untuk Store 39: 1450668.13\n",
      "Mean Kolom Weekly Sales untuk Store 40: 964128.04\n",
      "Mean Kolom Weekly Sales untuk Store 41: 1268125.42\n",
      "Mean Kolom Weekly Sales untuk Store 42: 556403.86\n",
      "Mean Kolom Weekly Sales untuk Store 43: 633324.72\n",
      "Mean Kolom Weekly Sales untuk Store 44: 302748.87\n",
      "Mean Kolom Weekly Sales untuk Store 45: 785981.41\n"
     ]
    }
   ],
   "source": [
    "# array kosong untuk menyimpang mean weekly sales untuk tiap store\n",
    "mean_weekly_sales = {} \n",
    "\n",
    "# mengisi dictionary dengan mean weekly sales\n",
    "for store in range(1, 46):\n",
    "    mean_weekly_sales[store] = df[df['Store'] == store]['Weekly_Sales'].mean().round(2)\n",
    "\n",
    "# Menampilkan hasil dictionary\n",
    "for store, mean_sales in mean_weekly_sales.items():\n",
    "    print(f\"Mean Kolom Weekly Sales untuk Store {store}: {mean_sales}\")"
   ]
  },
  {
   "attachments": {},
   "cell_type": "markdown",
   "metadata": {},
   "source": [
    "#### 1.f Highest CPI amongst other store = Store 3"
   ]
  },
  {
   "cell_type": "code",
   "execution_count": 74,
   "metadata": {},
   "outputs": [
    {
     "name": "stdout",
     "output_type": "stream",
     "text": [
      "Max CPI dari semua store:  227.2328068\n"
     ]
    }
   ],
   "source": [
    "max_cpi_per_store = df.groupby('Store')['CPI'].max()\n",
    "\n",
    "max_cpi = max_cpi_per_store.max()\n",
    "\n",
    "print(\"Max CPI dari semua store: \", max_cpi)"
   ]
  },
  {
   "attachments": {},
   "cell_type": "markdown",
   "metadata": {},
   "source": [
    "#### 1.g Highest CPI with Holiday Week"
   ]
  },
  {
   "cell_type": "code",
   "execution_count": 79,
   "metadata": {},
   "outputs": [
    {
     "name": "stdout",
     "output_type": "stream",
     "text": [
      "Rata-rata CPI pada holiday week (1): 171.26809160977777\n",
      "Rata-rata CPI pada non-holiday week (0): 171.60172484419382\n",
      "CPI pada non-holiday week lebih tinggi.\n"
     ]
    }
   ],
   "source": [
    "mean_cpi_holiday = df.loc[df['Holiday_Flag'] == 1, 'CPI'].mean()\n",
    "mean_cpi_non_holiday = df.loc[df['Holiday_Flag'] == 0, 'CPI'].mean()\n",
    "\n",
    "print(\"Rata-rata CPI pada holiday week (1):\", mean_cpi_holiday)\n",
    "print(\"Rata-rata CPI pada non-holiday week (0):\", mean_cpi_non_holiday)\n",
    "\n",
    "if mean_cpi_holiday > mean_cpi_non_holiday:\n",
    "    print(\"CPI pada holiday week lebih tinggi.\")\n",
    "elif mean_cpi_holiday < mean_cpi_non_holiday:\n",
    "    print(\"CPI pada non-holiday week lebih tinggi.\")\n",
    "else:\n",
    "    print(\"Rata-rata CPI pada holiday week dan non-holiday week sama.\")"
   ]
  },
  {
   "attachments": {},
   "cell_type": "markdown",
   "metadata": {},
   "source": [
    "### Task 2"
   ]
  },
  {
   "attachments": {},
   "cell_type": "markdown",
   "metadata": {},
   "source": [
    "#### 2.a KS Test"
   ]
  },
  {
   "cell_type": "code",
   "execution_count": 99,
   "metadata": {},
   "outputs": [
    {
     "name": "stdout",
     "output_type": "stream",
     "text": [
      "Hasil Uji KS kolom Weekly_Sales\n",
      "KS statistic: 1.0\n",
      "P-value: 0.0\n",
      "Alpha: 0.05\n",
      "Hasil: Tidak Mengikuti Distribusi Normal\n"
     ]
    }
   ],
   "source": [
    "nama_kolom = 'Weekly_Sales'\n",
    "alpha = 0.05\n",
    "\n",
    "# Melakukan uji normalitas dengan KS Test\n",
    "ks_statistic, p_value = kstest(df[nama_kolom], 'norm')\n",
    "\n",
    "# Membandingkan nilai p_value dan alpha\n",
    "if p_value < alpha:\n",
    "    hasil = \"Tidak Mengikuti Distribusi Normal\"\n",
    "else:\n",
    "    hasil = \"Mengikuti Distribusi Normal\"\n",
    "\n",
    "# Menampilkan hasil\n",
    "print(\"Hasil Uji KS kolom\", nama_kolom)\n",
    "print(\"KS statistic:\", ks_statistic)\n",
    "print(\"P-value:\", p_value)\n",
    "print(\"Alpha:\", alpha)\n",
    "print(\"Hasil:\", hasil)"
   ]
  },
  {
   "cell_type": "code",
   "execution_count": 98,
   "metadata": {},
   "outputs": [
    {
     "name": "stdout",
     "output_type": "stream",
     "text": [
      "Hasil Uji KS kolom Fuel_Price\n",
      "KS statistic: 0.9938591330984947\n",
      "P-value: 0.0\n",
      "Alpha: 0.05\n",
      "Hasil: Tidak Mengikuti Distribusi Normal\n"
     ]
    }
   ],
   "source": [
    "nama_kolom = 'Fuel_Price'\n",
    "alpha = 0.05\n",
    "\n",
    "# Melakukan uji normalitas dengan KS Test\n",
    "ks_statistic, p_value = kstest(df[nama_kolom], 'norm')\n",
    "\n",
    "# Membandingkan nilai p_value dan alpha\n",
    "if p_value < alpha:\n",
    "    hasil = \"Tidak Mengikuti Distribusi Normal\"\n",
    "else:\n",
    "    hasil = \"Mengikuti Distribusi Normal\"\n",
    "\n",
    "# Menampilkan hasil\n",
    "print(\"Hasil Uji KS kolom\", nama_kolom)\n",
    "print(\"KS statistic:\", ks_statistic)\n",
    "print(\"P-value:\", p_value)\n",
    "print(\"Alpha:\", alpha)\n",
    "print(\"Hasil:\", hasil)"
   ]
  }
 ],
 "metadata": {
  "kernelspec": {
   "display_name": "Python 3",
   "language": "python",
   "name": "python3"
  },
  "language_info": {
   "codemirror_mode": {
    "name": "ipython",
    "version": 3
   },
   "file_extension": ".py",
   "mimetype": "text/x-python",
   "name": "python",
   "nbconvert_exporter": "python",
   "pygments_lexer": "ipython3",
   "version": "3.10.9"
  },
  "orig_nbformat": 4
 },
 "nbformat": 4,
 "nbformat_minor": 2
}
