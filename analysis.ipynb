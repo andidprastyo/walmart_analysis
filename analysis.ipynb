{
 "cells": [
  {
   "attachments": {},
   "cell_type": "markdown",
   "metadata": {},
   "source": [
    "## Walmart Analysis\n"
   ]
  },
  {
   "attachments": {},
   "cell_type": "markdown",
   "metadata": {},
   "source": [
    "### Read Data\n"
   ]
  },
  {
   "cell_type": "code",
   "execution_count": 2,
   "metadata": {},
   "outputs": [
    {
     "data": {
      "text/html": [
       "<div>\n",
       "<style scoped>\n",
       "    .dataframe tbody tr th:only-of-type {\n",
       "        vertical-align: middle;\n",
       "    }\n",
       "\n",
       "    .dataframe tbody tr th {\n",
       "        vertical-align: top;\n",
       "    }\n",
       "\n",
       "    .dataframe thead th {\n",
       "        text-align: right;\n",
       "    }\n",
       "</style>\n",
       "<table border=\"1\" class=\"dataframe\">\n",
       "  <thead>\n",
       "    <tr style=\"text-align: right;\">\n",
       "      <th></th>\n",
       "      <th>Store</th>\n",
       "      <th>Date</th>\n",
       "      <th>Weekly_Sales</th>\n",
       "      <th>Holiday_Flag</th>\n",
       "      <th>Temperature</th>\n",
       "      <th>Fuel_Price</th>\n",
       "      <th>CPI</th>\n",
       "      <th>Unemployment</th>\n",
       "    </tr>\n",
       "  </thead>\n",
       "  <tbody>\n",
       "    <tr>\n",
       "      <th>0</th>\n",
       "      <td>1</td>\n",
       "      <td>05-02-2010</td>\n",
       "      <td>1643690.90</td>\n",
       "      <td>0</td>\n",
       "      <td>42.31</td>\n",
       "      <td>2.572</td>\n",
       "      <td>211.096358</td>\n",
       "      <td>8.106</td>\n",
       "    </tr>\n",
       "    <tr>\n",
       "      <th>1</th>\n",
       "      <td>1</td>\n",
       "      <td>12-02-2010</td>\n",
       "      <td>1641957.44</td>\n",
       "      <td>1</td>\n",
       "      <td>38.51</td>\n",
       "      <td>2.548</td>\n",
       "      <td>211.242170</td>\n",
       "      <td>8.106</td>\n",
       "    </tr>\n",
       "    <tr>\n",
       "      <th>2</th>\n",
       "      <td>1</td>\n",
       "      <td>19-02-2010</td>\n",
       "      <td>1611968.17</td>\n",
       "      <td>0</td>\n",
       "      <td>39.93</td>\n",
       "      <td>2.514</td>\n",
       "      <td>211.289143</td>\n",
       "      <td>8.106</td>\n",
       "    </tr>\n",
       "    <tr>\n",
       "      <th>3</th>\n",
       "      <td>1</td>\n",
       "      <td>26-02-2010</td>\n",
       "      <td>1409727.59</td>\n",
       "      <td>0</td>\n",
       "      <td>46.63</td>\n",
       "      <td>2.561</td>\n",
       "      <td>211.319643</td>\n",
       "      <td>8.106</td>\n",
       "    </tr>\n",
       "    <tr>\n",
       "      <th>4</th>\n",
       "      <td>1</td>\n",
       "      <td>05-03-2010</td>\n",
       "      <td>1554806.68</td>\n",
       "      <td>0</td>\n",
       "      <td>46.50</td>\n",
       "      <td>2.625</td>\n",
       "      <td>211.350143</td>\n",
       "      <td>8.106</td>\n",
       "    </tr>\n",
       "  </tbody>\n",
       "</table>\n",
       "</div>"
      ],
      "text/plain": [
       "   Store        Date  Weekly_Sales  Holiday_Flag  Temperature  Fuel_Price   \n",
       "0      1  05-02-2010    1643690.90             0        42.31       2.572  \\\n",
       "1      1  12-02-2010    1641957.44             1        38.51       2.548   \n",
       "2      1  19-02-2010    1611968.17             0        39.93       2.514   \n",
       "3      1  26-02-2010    1409727.59             0        46.63       2.561   \n",
       "4      1  05-03-2010    1554806.68             0        46.50       2.625   \n",
       "\n",
       "          CPI  Unemployment  \n",
       "0  211.096358         8.106  \n",
       "1  211.242170         8.106  \n",
       "2  211.289143         8.106  \n",
       "3  211.319643         8.106  \n",
       "4  211.350143         8.106  "
      ]
     },
     "execution_count": 2,
     "metadata": {},
     "output_type": "execute_result"
    }
   ],
   "source": [
    "import pandas as pd\n",
    "\n",
    "df = pd.read_csv(\"./Walmart.csv\")\n",
    "df.head()"
   ]
  },
  {
   "attachments": {},
   "cell_type": "markdown",
   "metadata": {},
   "source": [
    "### Task 1\n"
   ]
  },
  {
   "attachments": {},
   "cell_type": "markdown",
   "metadata": {},
   "source": [
    "#### 1.a Chosing the right data to regression modelling\n",
    "\n",
    "Kolom yang bisa digunakan untuk pemodelan regresi adalah 'Weekly_Sales', 'Temperature', 'Fuel_Price', 'CPI', dan 'Unemployment'\n"
   ]
  },
  {
   "attachments": {},
   "cell_type": "markdown",
   "metadata": {},
   "source": [
    "#### 1.b Mean, Median, Std Deviasi & Varians in Store 4\n"
   ]
  },
  {
   "cell_type": "code",
   "execution_count": 3,
   "metadata": {},
   "outputs": [
    {
     "name": "stdout",
     "output_type": "stream",
     "text": [
      "Mean in Store 4:\n",
      "Weekly_Sales: 2094712.96\n",
      "Temperature: 62.25\n",
      "Fuel_Price: 3.22\n",
      "CPI: 128.68\n",
      "Unemployment: 5.96\n",
      "\n",
      "Median in Store 4:\n",
      "Weekly_Sales: 2073951.38\n",
      "Temperature: 64.22\n",
      "Fuel_Price: 3.29\n",
      "CPI: 129.08\n",
      "Unemployment: 5.95\n",
      "\n",
      "Standar Deviasi in Store 4:\n",
      "Weekly_Sales: 266201.44\n",
      "Temperature: 16.18\n",
      "Fuel_Price: 0.42\n",
      "CPI: 1.86\n",
      "Unemployment: 1.42\n",
      "\n",
      "Variance in Store 4:\n",
      "Weekly_Sales: 70863207880.99\n",
      "Temperature: 261.79\n",
      "Fuel_Price: 0.17\n",
      "CPI: 3.45\n",
      "Unemployment: 2.02\n",
      "\n"
     ]
    }
   ],
   "source": [
    "store = 4\n",
    "nama_kolom = [\"Weekly_Sales\", \"Temperature\", \"Fuel_Price\", \"CPI\", \"Unemployment\"]\n",
    "\n",
    "# Membuat dictionary untuk menyimpan hasil perhitungan dari masing-masing kolom\n",
    "statistics = {\n",
    "    \"Mean\": df[df[\"Store\"] == store][nama_kolom].mean().round(2),\n",
    "    \"Median\": df[df[\"Store\"] == store][nama_kolom].median().round(2),\n",
    "    \"Standar Deviasi\": df[df[\"Store\"] == store][nama_kolom].std().round(2),\n",
    "    \"Variance\": df[df[\"Store\"] == store][nama_kolom].var().round(2),\n",
    "}\n",
    "\n",
    "# Printing the statistics for Store 4\n",
    "for nama_kolom, measures in statistics.items():\n",
    "    print(f\"{nama_kolom} in Store {store}:\")\n",
    "    for measure, value in measures.items():\n",
    "        print(f\"{measure}: {value}\")\n",
    "    print()"
   ]
  },
  {
   "attachments": {},
   "cell_type": "markdown",
   "metadata": {},
   "source": [
    "#### 1.c Q1, Q2, Q3 and IQR Fuel_Price, CPI & Unemployment for Store 4\n"
   ]
  },
  {
   "cell_type": "code",
   "execution_count": 4,
   "metadata": {},
   "outputs": [
    {
     "name": "stdout",
     "output_type": "stream",
     "text": [
      "Statistics for Temperature in Store 4:\n",
      "Kuartil 25.0: 48.47\n",
      "Kuartil 50.0: 64.22\n",
      "Kuartil 75.0: 77.44\n",
      "IQR: 28.97\n",
      "\n",
      "Statistics for Fuel_Price in Store 4:\n",
      "Kuartil 25.0: 2.76\n",
      "Kuartil 50.0: 3.29\n",
      "Kuartil 75.0: 3.59\n",
      "IQR: 0.83\n",
      "\n",
      "Statistics for CPI in Store 4:\n",
      "Kuartil 25.0: 126.59\n",
      "Kuartil 50.0: 129.08\n",
      "Kuartil 75.0: 130.5\n",
      "IQR: 3.91\n",
      "\n",
      "Statistics for Unemployment in Store 4:\n",
      "Kuartil 25.0: 4.61\n",
      "Kuartil 50.0: 5.95\n",
      "Kuartil 75.0: 7.13\n",
      "IQR: 2.52\n",
      "\n"
     ]
    }
   ],
   "source": [
    "store = 4\n",
    "nama_kolom = [\"Temperature\", \"Fuel_Price\", \"CPI\", \"Unemployment\"]\n",
    "quantiles = [0.25, 0.5, 0.75]\n",
    "\n",
    "# Membuat dictionary untuk menyimpan hasil perhitungan dari masing-masing kolom\n",
    "statistics = {}\n",
    "\n",
    "# Menghitung nilai quantile dari masing-masing kolom\n",
    "for column in nama_kolom:\n",
    "    column_statistics = {}\n",
    "    for q in quantiles:\n",
    "        column_statistics[f\"Kuartil {q * 100}\"] = (\n",
    "            df[df[\"Store\"] == store][column].quantile(q).round(2)\n",
    "        )\n",
    "    column_statistics[\"IQR\"] = (\n",
    "        column_statistics[f\"Kuartil {quantiles[2] * 100}\"]\n",
    "        - column_statistics[f\"Kuartil {quantiles[0] * 100}\"]\n",
    "    ).round(3)\n",
    "    statistics[column] = column_statistics\n",
    "\n",
    "# Menampilkan hasil perhitungan\n",
    "for column, column_statistics in statistics.items():\n",
    "    print(f\"Statistics for {column} in Store {store}:\")\n",
    "    for measure, value in column_statistics.items():\n",
    "        print(f\"{measure}: {value}\")\n",
    "    print()"
   ]
  },
  {
   "attachments": {},
   "cell_type": "markdown",
   "metadata": {},
   "source": [
    "#### 1.d Varians Holiday & Non Holiday\n"
   ]
  },
  {
   "cell_type": "code",
   "execution_count": 5,
   "metadata": {},
   "outputs": [
    {
     "name": "stdout",
     "output_type": "stream",
     "text": [
      "Varians dari Weekly_Sales_Holiday: 393988373714.19293\n",
      "Varians dari Weekly_Sales_NonHoliday: 312433415424.3812\n",
      "Varians dari Temperature_Holiday: 402.84979180202924\n",
      "Varians dari Temperature_NonHoliday: 326.7740382066351\n",
      "Varians dari Fuel_Price_Holiday: 0.1664101245681762\n",
      "Varians dari Fuel_Price_NonHoliday: 0.21266688900375938\n",
      "Varians dari CPI_Holiday: 1543.8179947947333\n",
      "Varians dari CPI_NonHoliday: 1549.586998303561\n"
     ]
    }
   ],
   "source": [
    "column_names = [\"Weekly_Sales\", \"Temperature\", \"Fuel_Price\", \"CPI\"]\n",
    "\n",
    "# membuat dictionary untuk menampung variance dari setiap kolom dan holiday flag\n",
    "variances = {}\n",
    "\n",
    "# menghitung variance dari setiap kolom dan holiday flag\n",
    "for column in column_names:\n",
    "    variances[column + \"_Holiday\"] = df[df[\"Holiday_Flag\"] == 1][column].var()\n",
    "    variances[column + \"_NonHoliday\"] = df[df[\"Holiday_Flag\"] == 0][column].var()\n",
    "\n",
    "# menampilkan variance dari setiap kolom dan holiday flag\n",
    "for measure, value in variances.items():\n",
    "    print(f\"Varians dari {measure}: {value}\")"
   ]
  },
  {
   "attachments": {},
   "cell_type": "markdown",
   "metadata": {},
   "source": [
    "#### 1.e perbandingan rata-rata kolom weekly sales = Berbeda\n"
   ]
  },
  {
   "cell_type": "code",
   "execution_count": 6,
   "metadata": {},
   "outputs": [
    {
     "name": "stdout",
     "output_type": "stream",
     "text": [
      "Mean Kolom Weekly Sales untuk Store 1: 1555264.4\n",
      "Mean Kolom Weekly Sales untuk Store 2: 1925751.34\n",
      "Mean Kolom Weekly Sales untuk Store 3: 402704.44\n",
      "Mean Kolom Weekly Sales untuk Store 4: 2094712.96\n",
      "Mean Kolom Weekly Sales untuk Store 5: 318011.81\n",
      "Mean Kolom Weekly Sales untuk Store 6: 1564728.19\n",
      "Mean Kolom Weekly Sales untuk Store 7: 570617.31\n",
      "Mean Kolom Weekly Sales untuk Store 8: 908749.52\n",
      "Mean Kolom Weekly Sales untuk Store 9: 543980.55\n",
      "Mean Kolom Weekly Sales untuk Store 10: 1899424.57\n",
      "Mean Kolom Weekly Sales untuk Store 11: 1356383.12\n",
      "Mean Kolom Weekly Sales untuk Store 12: 1009001.61\n",
      "Mean Kolom Weekly Sales untuk Store 13: 2003620.31\n",
      "Mean Kolom Weekly Sales untuk Store 14: 2020978.4\n",
      "Mean Kolom Weekly Sales untuk Store 15: 623312.47\n",
      "Mean Kolom Weekly Sales untuk Store 16: 519247.73\n",
      "Mean Kolom Weekly Sales untuk Store 17: 893581.39\n",
      "Mean Kolom Weekly Sales untuk Store 18: 1084718.42\n",
      "Mean Kolom Weekly Sales untuk Store 19: 1444999.04\n",
      "Mean Kolom Weekly Sales untuk Store 20: 2107676.87\n",
      "Mean Kolom Weekly Sales untuk Store 21: 756069.08\n",
      "Mean Kolom Weekly Sales untuk Store 22: 1028501.04\n",
      "Mean Kolom Weekly Sales untuk Store 23: 1389864.46\n",
      "Mean Kolom Weekly Sales untuk Store 24: 1356755.39\n",
      "Mean Kolom Weekly Sales untuk Store 25: 706721.53\n",
      "Mean Kolom Weekly Sales untuk Store 26: 1002911.84\n",
      "Mean Kolom Weekly Sales untuk Store 27: 1775216.2\n",
      "Mean Kolom Weekly Sales untuk Store 28: 1323522.24\n",
      "Mean Kolom Weekly Sales untuk Store 29: 539451.43\n",
      "Mean Kolom Weekly Sales untuk Store 30: 438579.62\n",
      "Mean Kolom Weekly Sales untuk Store 31: 1395901.44\n",
      "Mean Kolom Weekly Sales untuk Store 32: 1166568.15\n",
      "Mean Kolom Weekly Sales untuk Store 33: 259861.69\n",
      "Mean Kolom Weekly Sales untuk Store 34: 966781.56\n",
      "Mean Kolom Weekly Sales untuk Store 35: 919724.98\n",
      "Mean Kolom Weekly Sales untuk Store 36: 373511.99\n",
      "Mean Kolom Weekly Sales untuk Store 37: 518900.28\n",
      "Mean Kolom Weekly Sales untuk Store 38: 385731.65\n",
      "Mean Kolom Weekly Sales untuk Store 39: 1450668.13\n",
      "Mean Kolom Weekly Sales untuk Store 40: 964128.04\n",
      "Mean Kolom Weekly Sales untuk Store 41: 1268125.42\n",
      "Mean Kolom Weekly Sales untuk Store 42: 556403.86\n",
      "Mean Kolom Weekly Sales untuk Store 43: 633324.72\n",
      "Mean Kolom Weekly Sales untuk Store 44: 302748.87\n",
      "Mean Kolom Weekly Sales untuk Store 45: 785981.41\n"
     ]
    }
   ],
   "source": [
    "# array kosong untuk menyimpang mean weekly sales untuk tiap store\n",
    "mean_weekly_sales = {}\n",
    "\n",
    "# mengisi dictionary dengan mean weekly sales\n",
    "for store in range(1, 46):\n",
    "    mean_weekly_sales[store] = df[df[\"Store\"] == store][\"Weekly_Sales\"].mean().round(2)\n",
    "\n",
    "# Menampilkan hasil dictionary\n",
    "for store, mean_sales in mean_weekly_sales.items():\n",
    "    print(f\"Mean Kolom Weekly Sales untuk Store {store}: {mean_sales}\")"
   ]
  },
  {
   "attachments": {},
   "cell_type": "markdown",
   "metadata": {},
   "source": [
    "#### 1.f Highest CPI amongst other store = Store 9\n"
   ]
  },
  {
   "cell_type": "code",
   "execution_count": 7,
   "metadata": {},
   "outputs": [
    {
     "name": "stdout",
     "output_type": "stream",
     "text": [
      "Max CPI dari semua store:  227.2328068\n"
     ]
    }
   ],
   "source": [
    "max_cpi = df[\"CPI\"].max()\n",
    "\n",
    "print(\"Max CPI dari semua store: \", max_cpi)"
   ]
  },
  {
   "attachments": {},
   "cell_type": "markdown",
   "metadata": {},
   "source": [
    "#### 1.g Highest CPI with Holiday Week\n"
   ]
  },
  {
   "cell_type": "code",
   "execution_count": 8,
   "metadata": {},
   "outputs": [
    {
     "name": "stdout",
     "output_type": "stream",
     "text": [
      "Rata-rata CPI pada holiday week (1): 171.26809160977777\n",
      "Rata-rata CPI pada non-holiday week (0): 171.60172484419382\n",
      "CPI pada non-holiday week lebih tinggi.\n"
     ]
    }
   ],
   "source": [
    "mean_cpi_holiday = df.loc[df[\"Holiday_Flag\"] == 1, \"CPI\"].mean()\n",
    "mean_cpi_non_holiday = df.loc[df[\"Holiday_Flag\"] == 0, \"CPI\"].mean()\n",
    "\n",
    "print(\"Rata-rata CPI pada holiday week (1):\", mean_cpi_holiday)\n",
    "print(\"Rata-rata CPI pada non-holiday week (0):\", mean_cpi_non_holiday)\n",
    "\n",
    "if mean_cpi_holiday > mean_cpi_non_holiday:\n",
    "    print(\"CPI pada holiday week lebih tinggi.\")\n",
    "elif mean_cpi_holiday < mean_cpi_non_holiday:\n",
    "    print(\"CPI pada non-holiday week lebih tinggi.\")\n",
    "else:\n",
    "    print(\"Rata-rata CPI pada holiday week dan non-holiday week sama.\")"
   ]
  },
  {
   "attachments": {},
   "cell_type": "markdown",
   "metadata": {},
   "source": [
    "### Task 2\n"
   ]
  },
  {
   "attachments": {},
   "cell_type": "markdown",
   "metadata": {},
   "source": [
    "#### 2.a KS Test\n"
   ]
  },
  {
   "cell_type": "code",
   "execution_count": 9,
   "metadata": {},
   "outputs": [
    {
     "name": "stdout",
     "output_type": "stream",
     "text": [
      "Hasil Uji KS kolom Weekly_Sales\n",
      "KS statistic: 1.0\n",
      "P-value: 0.0\n",
      "Alpha: 0.05\n",
      "Hasil: Tidak Mengikuti Distribusi Normal\n",
      "\n",
      "Hasil Uji KS kolom Fuel_Price\n",
      "KS statistic: 0.9938591330984947\n",
      "P-value: 0.0\n",
      "Alpha: 0.05\n",
      "Hasil: Tidak Mengikuti Distribusi Normal\n",
      "\n"
     ]
    }
   ],
   "source": [
    "from scipy.stats import kstest\n",
    "\n",
    "nama_kolom = ['Weekly_Sales', 'Fuel_Price']\n",
    "alpha = 0.05\n",
    "\n",
    "for nama_kolom in nama_kolom:\n",
    "    # Melakukan uji normalitas dengan KS Test\n",
    "    ks_statistic, p_value = kstest(df[nama_kolom], 'norm')\n",
    "\n",
    "    # Membandingkan nilai p_value dan alpha\n",
    "    if p_value < alpha:\n",
    "        hasil = \"Tidak Mengikuti Distribusi Normal\"\n",
    "    else:\n",
    "        hasil = \"Mengikuti Distribusi Normal\"\n",
    "\n",
    "    # Menampilkan hasil\n",
    "    print(\"Hasil Uji KS kolom\", nama_kolom)\n",
    "    print(\"KS statistic:\", ks_statistic)\n",
    "    print(\"P-value:\", p_value)\n",
    "    print(\"Alpha:\", alpha)\n",
    "    print(\"Hasil:\", hasil)\n",
    "    print()"
   ]
  },
  {
   "cell_type": "markdown",
   "metadata": {},
   "source": [
    "### Task 3 Correlation Test\n"
   ]
  },
  {
   "cell_type": "code",
   "execution_count": 11,
   "metadata": {},
   "outputs": [
    {
     "name": "stdout",
     "output_type": "stream",
     "text": [
      "Korelasi antara Weekly_Sales dengan Temperature:\n",
      "Koefisien Korealasi: -0.06381001317946959\n",
      "P-value: 3.0076476258332254e-07\n",
      "\n",
      "Korelasi antara Weekly_Sales dengan Fuel_Price:\n",
      "Koefisien Korealasi: 0.00946378631447513\n",
      "P-value: 0.44782874894858105\n",
      "\n",
      "Korelasi antara Weekly_Sales dengan Unemployment:\n",
      "Koefisien Korealasi: -0.10617608965795415\n",
      "P-value: 1.3448365210234661e-17\n",
      "\n"
     ]
    }
   ],
   "source": [
    "from scipy.stats import pearsonr\n",
    "\n",
    "kolom1 = 'Weekly_Sales'\n",
    "kolom2_list = ['Temperature', 'Fuel_Price', 'Unemployment']  # Add the names of the columns you want to test\n",
    "\n",
    "for kolom2 in kolom2_list:\n",
    "    # Perform correlation test\n",
    "    corr, p_value = pearsonr(df[kolom1], df[kolom2])\n",
    "\n",
    "    # Display the results\n",
    "    print(f\"Korelasi antara {kolom1} dengan {kolom2}:\")\n",
    "    print(\"Koefisien Korealasi:\", corr)\n",
    "    print(\"P-value:\", p_value)\n",
    "    print()\n"
   ]
  },
  {
   "attachments": {},
   "cell_type": "markdown",
   "metadata": {},
   "source": [
    "### Task 4 Regression Model\n"
   ]
  }
 ],
 "metadata": {
  "kernelspec": {
   "display_name": "Python 3",
   "language": "python",
   "name": "python3"
  },
  "language_info": {
   "codemirror_mode": {
    "name": "ipython",
    "version": 3
   },
   "file_extension": ".py",
   "mimetype": "text/x-python",
   "name": "python",
   "nbconvert_exporter": "python",
   "pygments_lexer": "ipython3",
   "version": "3.10.9"
  },
  "orig_nbformat": 4
 },
 "nbformat": 4,
 "nbformat_minor": 2
}
