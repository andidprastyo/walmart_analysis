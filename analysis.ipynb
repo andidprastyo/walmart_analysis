{
 "cells": [
  {
   "attachments": {},
   "cell_type": "markdown",
   "metadata": {},
   "source": [
    "## Walmart Analysis"
   ]
  },
  {
   "attachments": {},
   "cell_type": "markdown",
   "metadata": {},
   "source": [
    "### Read Data"
   ]
  },
  {
   "cell_type": "code",
   "execution_count": 4,
   "metadata": {},
   "outputs": [
    {
     "data": {
      "text/html": [
       "<div>\n",
       "<style scoped>\n",
       "    .dataframe tbody tr th:only-of-type {\n",
       "        vertical-align: middle;\n",
       "    }\n",
       "\n",
       "    .dataframe tbody tr th {\n",
       "        vertical-align: top;\n",
       "    }\n",
       "\n",
       "    .dataframe thead th {\n",
       "        text-align: right;\n",
       "    }\n",
       "</style>\n",
       "<table border=\"1\" class=\"dataframe\">\n",
       "  <thead>\n",
       "    <tr style=\"text-align: right;\">\n",
       "      <th></th>\n",
       "      <th>Store</th>\n",
       "      <th>Date</th>\n",
       "      <th>Weekly_Sales</th>\n",
       "      <th>Holiday_Flag</th>\n",
       "      <th>Temperature</th>\n",
       "      <th>Fuel_Price</th>\n",
       "      <th>CPI</th>\n",
       "      <th>Unemployment</th>\n",
       "    </tr>\n",
       "  </thead>\n",
       "  <tbody>\n",
       "    <tr>\n",
       "      <th>0</th>\n",
       "      <td>1</td>\n",
       "      <td>05-02-2010</td>\n",
       "      <td>1643690.90</td>\n",
       "      <td>0</td>\n",
       "      <td>42.31</td>\n",
       "      <td>2.572</td>\n",
       "      <td>211.096358</td>\n",
       "      <td>8.106</td>\n",
       "    </tr>\n",
       "    <tr>\n",
       "      <th>1</th>\n",
       "      <td>1</td>\n",
       "      <td>12-02-2010</td>\n",
       "      <td>1641957.44</td>\n",
       "      <td>1</td>\n",
       "      <td>38.51</td>\n",
       "      <td>2.548</td>\n",
       "      <td>211.242170</td>\n",
       "      <td>8.106</td>\n",
       "    </tr>\n",
       "    <tr>\n",
       "      <th>2</th>\n",
       "      <td>1</td>\n",
       "      <td>19-02-2010</td>\n",
       "      <td>1611968.17</td>\n",
       "      <td>0</td>\n",
       "      <td>39.93</td>\n",
       "      <td>2.514</td>\n",
       "      <td>211.289143</td>\n",
       "      <td>8.106</td>\n",
       "    </tr>\n",
       "    <tr>\n",
       "      <th>3</th>\n",
       "      <td>1</td>\n",
       "      <td>26-02-2010</td>\n",
       "      <td>1409727.59</td>\n",
       "      <td>0</td>\n",
       "      <td>46.63</td>\n",
       "      <td>2.561</td>\n",
       "      <td>211.319643</td>\n",
       "      <td>8.106</td>\n",
       "    </tr>\n",
       "    <tr>\n",
       "      <th>4</th>\n",
       "      <td>1</td>\n",
       "      <td>05-03-2010</td>\n",
       "      <td>1554806.68</td>\n",
       "      <td>0</td>\n",
       "      <td>46.50</td>\n",
       "      <td>2.625</td>\n",
       "      <td>211.350143</td>\n",
       "      <td>8.106</td>\n",
       "    </tr>\n",
       "  </tbody>\n",
       "</table>\n",
       "</div>"
      ],
      "text/plain": [
       "   Store        Date  Weekly_Sales  Holiday_Flag  Temperature  Fuel_Price   \n",
       "0      1  05-02-2010    1643690.90             0        42.31       2.572  \\\n",
       "1      1  12-02-2010    1641957.44             1        38.51       2.548   \n",
       "2      1  19-02-2010    1611968.17             0        39.93       2.514   \n",
       "3      1  26-02-2010    1409727.59             0        46.63       2.561   \n",
       "4      1  05-03-2010    1554806.68             0        46.50       2.625   \n",
       "\n",
       "          CPI  Unemployment  \n",
       "0  211.096358         8.106  \n",
       "1  211.242170         8.106  \n",
       "2  211.289143         8.106  \n",
       "3  211.319643         8.106  \n",
       "4  211.350143         8.106  "
      ]
     },
     "execution_count": 4,
     "metadata": {},
     "output_type": "execute_result"
    }
   ],
   "source": [
    "import pandas as pd \n",
    "\n",
    "df = pd.read_csv('./Walmart.csv')\n",
    "df.head()"
   ]
  },
  {
   "attachments": {},
   "cell_type": "markdown",
   "metadata": {},
   "source": [
    "### Task 1"
   ]
  },
  {
   "attachments": {},
   "cell_type": "markdown",
   "metadata": {},
   "source": [
    "#### 1.a Chosing the right data to regression modelling\n",
    "\n",
    "Kolom yang bisa digunakan untuk pemodelan regresi adalah 'Weekly_Sales', 'Temperature', 'Fuel_Price', 'CPI', dan 'Unemployment'"
   ]
  },
  {
   "attachments": {},
   "cell_type": "markdown",
   "metadata": {},
   "source": [
    "#### 1.b Mean, Median, Std Deviasi & Varians"
   ]
  },
  {
   "cell_type": "code",
   "execution_count": 10,
   "metadata": {},
   "outputs": [
    {
     "name": "stdout",
     "output_type": "stream",
     "text": [
      "Mean Kolom Weekly_Sales:  1046964.88\n",
      "Median Kolom Weekly_Sales:  960746.04\n",
      "Standar Deviasi Kolom Weekly_Sales:  564366.62205\n",
      "Varians Kolom Weekly_Sales:  318509684088.30096\n"
     ]
    }
   ],
   "source": [
    "mean_weekly_sales = df['Weekly_Sales'].mean().round(2) # Mencari nilai rata-rata kolom 'Weekly_Sales'\n",
    "print(\"Mean Kolom Weekly_Sales: \", mean_weekly_sales)\n",
    "\n",
    "median_weekly_sales = df['Weekly_Sales'].median().round(2) # Mencari nilai median kolom 'Weekly_Sales'\n",
    "print(\"Median Kolom Weekly_Sales: \", median_weekly_sales)\n",
    "\n",
    "std_dev_weekly_sales = df['Weekly_Sales'].std().round(5) # Mencari nilai standar deviasi kolom 'Weekly_Sales'\n",
    "print(\"Standar Deviasi Kolom Weekly_Sales: \", std_dev_weekly_sales)\n",
    "\n",
    "varians_weekly_sales = df['Weekly_Sales'].var().round(5) # Mencari nilai varians kolom 'Weekly_Sales'\n",
    "print(\"Varians Kolom Weekly_Sales: \", varians_weekly_sales)"
   ]
  },
  {
   "cell_type": "code",
   "execution_count": 12,
   "metadata": {},
   "outputs": [
    {
     "name": "stdout",
     "output_type": "stream",
     "text": [
      "Mean Kolom Temperature:  60.66\n",
      "Median Kolom Temperature:  62.67\n",
      "Standar Deviasi Kolom Temperature:  18.44493\n",
      "Varians Kolom Temperature:  340.21555\n"
     ]
    }
   ],
   "source": [
    "mean_temperatures = df['Temperature'].mean().round(2) # Mencari nilai rata-rata kolom 'Temperature'\n",
    "print(\"Mean Kolom Temperature: \", mean_temperatures)\n",
    "\n",
    "median_temperatures = df['Temperature'].median().round(2) # Mencari nilai median kolom 'Temperature'\n",
    "print(\"Median Kolom Temperature: \", median_temperatures)\n",
    "\n",
    "std_dev_temperatures = df['Temperature'].std().round(5) # Mencari nilai standar deviasi kolom 'Temperature'\n",
    "print(\"Standar Deviasi Kolom Temperature: \", std_dev_temperatures)\n",
    "\n",
    "varians_temperatures = df['Temperature'].var().round(5) # Mencari nilai varians kolom 'Temperature'\n",
    "print(\"Varians Kolom Temperature: \", varians_temperatures)"
   ]
  },
  {
   "cell_type": "code",
   "execution_count": 13,
   "metadata": {},
   "outputs": [
    {
     "name": "stdout",
     "output_type": "stream",
     "text": [
      "Mean Kolom Fuel_Price:  3.36\n",
      "Median Kolom Fuel_Price:  3.44\n",
      "Standar Deviasi Kolom Fuel_Price:  0.45902\n",
      "Varians Kolom Fuel_Price:  0.2107\n"
     ]
    }
   ],
   "source": [
    "mean_fuel_price = df['Fuel_Price'].mean().round(2) # Mencari nilai rata-rata kolom 'Fuel_Price'\n",
    "print(\"Mean Kolom Fuel_Price: \", mean_fuel_price)\n",
    "\n",
    "median_fuel_price = df['Fuel_Price'].median().round(2) # Mencari nilai median kolom 'Fuel_Price'\n",
    "print(\"Median Kolom Fuel_Price: \", median_fuel_price)\n",
    "\n",
    "std_dev_fuel_price = df['Fuel_Price'].std().round(5) # Mencari nilai standar deviasi kolom 'Fuel_Price'\n",
    "print(\"Standar Deviasi Kolom Fuel_Price: \", std_dev_fuel_price)\n",
    "\n",
    "varians_fuel_price = df['Fuel_Price'].var().round(5) # Mencari nilai varians kolom 'Fuel_Price'\n",
    "print(\"Varians Kolom Fuel_Price: \", varians_fuel_price)"
   ]
  },
  {
   "cell_type": "code",
   "execution_count": 14,
   "metadata": {},
   "outputs": [
    {
     "name": "stdout",
     "output_type": "stream",
     "text": [
      "Mean Kolom CPI:  171.58\n",
      "Median Kolom CPI:  182.62\n",
      "Standar Deviasi Kolom CPI:  39.35671\n",
      "Varians Kolom CPI:  1548.9508\n"
     ]
    }
   ],
   "source": [
    "mean_cpi = df['CPI'].mean().round(2) # Mencari nilai rata-rata kolom 'CPI'\n",
    "print(\"Mean Kolom CPI: \", mean_cpi)\n",
    "\n",
    "median_cpi = df['CPI'].median().round(2) # Mencari nilai median kolom 'CPI'\n",
    "print(\"Median Kolom CPI: \", median_cpi)\n",
    "\n",
    "std_dev_cpi = df['CPI'].std().round(5) # Mencari nilai standar deviasi kolom 'CPI'\n",
    "print(\"Standar Deviasi Kolom CPI: \", std_dev_cpi)\n",
    "\n",
    "varians_cpi = df['CPI'].var().round(5) # Mencari nilai varians kolom 'CPI'\n",
    "print(\"Varians Kolom CPI: \", varians_cpi)"
   ]
  },
  {
   "cell_type": "code",
   "execution_count": 15,
   "metadata": {},
   "outputs": [
    {
     "name": "stdout",
     "output_type": "stream",
     "text": [
      "Mean Kolom Unemployment:  8.0\n",
      "Median Kolom Unemployment:  7.87\n",
      "Standar Deviasi Kolom Unemployment:  1.87588\n",
      "Varians Kolom Unemployment:  3.51894\n"
     ]
    }
   ],
   "source": [
    "mean_unemployment = df['Unemployment'].mean().round(2) # Mencari nilai rata-rata kolom 'Unemployment'\n",
    "print(\"Mean Kolom Unemployment: \", mean_unemployment)\n",
    "\n",
    "median_unemployment = df['Unemployment'].median().round(2) # Mencari nilai median kolom 'Unemployment'\n",
    "print(\"Median Kolom Unemployment: \", median_unemployment)\n",
    "\n",
    "std_dev_unemployment = df['Unemployment'].std().round(5) # Mencari nilai standar deviasi kolom 'Unemployment'\n",
    "print(\"Standar Deviasi Kolom Unemployment: \", std_dev_unemployment)\n",
    "\n",
    "varians_unemployment = df['Unemployment'].var().round(5) # Mencari nilai varians kolom 'Unemployment'\n",
    "print(\"Varians Kolom Unemployment: \", varians_unemployment)"
   ]
  },
  {
   "attachments": {},
   "cell_type": "markdown",
   "metadata": {},
   "source": [
    "#### 1.c Qi, Q2, Q3 and IQR"
   ]
  },
  {
   "cell_type": "code",
   "execution_count": 16,
   "metadata": {},
   "outputs": [
    {
     "name": "stdout",
     "output_type": "stream",
     "text": [
      "Q1 Kolom Fuel_Price:  2.933\n",
      "Q2 Kolom Fuel_Price:  3.445\n",
      "Q3 Kolom Fuel_Price:  3.735\n",
      "IQR Kolom Fuel_Price:  0.802\n"
     ]
    }
   ],
   "source": [
    "q1_fuel_price = df['Fuel_Price'].quantile(0.25) # Mencari nilai Q1 kolom 'Fuel_Price'\n",
    "print(\"Q1 Kolom Fuel_Price: \", q1_fuel_price)\n",
    "\n",
    "q2_fuel_price = df['Fuel_Price'].quantile(0.5) # Mencari nilai Q2 kolom 'Fuel_Price'\n",
    "print(\"Q2 Kolom Fuel_Price: \", q2_fuel_price)\n",
    "\n",
    "q3_fuel_price = df['Fuel_Price'].quantile(0.75) # Mencari nilai Q3 kolom 'Fuel_Price'\n",
    "print(\"Q3 Kolom Fuel_Price: \", q3_fuel_price)\n",
    "\n",
    "iqr_fuel_price = q3_fuel_price - q1_fuel_price # Mencari nilai IQR kolom 'Fuel_Price'\n",
    "print(\"IQR Kolom Fuel_Price: \", iqr_fuel_price)"
   ]
  }
 ],
 "metadata": {
  "kernelspec": {
   "display_name": "Python 3",
   "language": "python",
   "name": "python3"
  },
  "language_info": {
   "codemirror_mode": {
    "name": "ipython",
    "version": 3
   },
   "file_extension": ".py",
   "mimetype": "text/x-python",
   "name": "python",
   "nbconvert_exporter": "python",
   "pygments_lexer": "ipython3",
   "version": "3.10.9"
  },
  "orig_nbformat": 4
 },
 "nbformat": 4,
 "nbformat_minor": 2
}
